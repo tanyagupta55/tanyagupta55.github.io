{
 "cells": [
  {
   "cell_type": "markdown",
   "metadata": {},
   "source": [
    "# Exploring and Comparing the Traditional and Modern Hospitality Industry"
   ]
  },
  {
   "cell_type": "markdown",
   "metadata": {},
   "source": [
    "## Author : Tanya Gupta"
   ]
  },
  {
   "cell_type": "markdown",
   "metadata": {},
   "source": [
    "Hospitality industry has been known for years by the traditional lavish hotels that provide luxury rooms and services. This type and extent of hospitality has always required the customers to spend ample money to make the most of these hotels. It is very common to come across different types and tiers of hotels spread across almost every region throughout the world. Hotel owners tend to be very competititive to prove that their services are worth the buck. Given the immense competition that already existed in the hopsitality industry, airbnb emerged as a novel concept that provided much better services and rather experiences at affordable rates. This article focuses on comparing hotels and airbnbs in the United States to understand the affect of modernization of the hositalty industry on the traditional existing hotels.\n",
    "\n",
    "The datasets for performing inidividual and comparitive analyses have been obtained from Kaggle. An image has also been used from the internet\n",
    "* Primary Dataset: Hotel Booking Demand - https://www.kaggle.com/jessemostipak/hotel-booking-demand?select=hotel_bookings.csv\n",
    "* US Airbnb Open data - https://www.kaggle.com/kritikseth/us-airbnb-open-data\n",
    "* Image - https://qz.com/779121/airbnb-vs-hotel-cost-comparison-you-can-rent-an-entire-home-on-airbnb-for-the-price-of-a-hotel-room/"
   ]
  },
  {
   "cell_type": "code",
   "execution_count": 2,
   "metadata": {},
   "outputs": [
    {
     "name": "stderr",
     "output_type": "stream",
     "text": [
      "In C:\\Users\\Tanya Gupta\\Anaconda3\\lib\\site-packages\\matplotlib\\mpl-data\\stylelib\\_classic_test.mplstyle: \n",
      "The text.latex.preview rcparam was deprecated in Matplotlib 3.3 and will be removed two minor releases later.\n",
      "In C:\\Users\\Tanya Gupta\\Anaconda3\\lib\\site-packages\\matplotlib\\mpl-data\\stylelib\\_classic_test.mplstyle: \n",
      "The mathtext.fallback_to_cm rcparam was deprecated in Matplotlib 3.3 and will be removed two minor releases later.\n",
      "In C:\\Users\\Tanya Gupta\\Anaconda3\\lib\\site-packages\\matplotlib\\mpl-data\\stylelib\\_classic_test.mplstyle: Support for setting the 'mathtext.fallback_to_cm' rcParam is deprecated since 3.3 and will be removed two minor releases later; use 'mathtext.fallback : 'cm' instead.\n",
      "In C:\\Users\\Tanya Gupta\\Anaconda3\\lib\\site-packages\\matplotlib\\mpl-data\\stylelib\\_classic_test.mplstyle: \n",
      "The validate_bool_maybe_none function was deprecated in Matplotlib 3.3 and will be removed two minor releases later.\n",
      "In C:\\Users\\Tanya Gupta\\Anaconda3\\lib\\site-packages\\matplotlib\\mpl-data\\stylelib\\_classic_test.mplstyle: \n",
      "The savefig.jpeg_quality rcparam was deprecated in Matplotlib 3.3 and will be removed two minor releases later.\n",
      "In C:\\Users\\Tanya Gupta\\Anaconda3\\lib\\site-packages\\matplotlib\\mpl-data\\stylelib\\_classic_test.mplstyle: \n",
      "The keymap.all_axes rcparam was deprecated in Matplotlib 3.3 and will be removed two minor releases later.\n",
      "In C:\\Users\\Tanya Gupta\\Anaconda3\\lib\\site-packages\\matplotlib\\mpl-data\\stylelib\\_classic_test.mplstyle: \n",
      "The animation.avconv_path rcparam was deprecated in Matplotlib 3.3 and will be removed two minor releases later.\n",
      "In C:\\Users\\Tanya Gupta\\Anaconda3\\lib\\site-packages\\matplotlib\\mpl-data\\stylelib\\_classic_test.mplstyle: \n",
      "The animation.avconv_args rcparam was deprecated in Matplotlib 3.3 and will be removed two minor releases later.\n"
     ]
    }
   ],
   "source": [
    "import matplotlib.pyplot as plt\n",
    "import pandas as pd\n",
    "import numpy as np\n",
    "import traitlets\n",
    "import ipywidgets\n",
    "import bqplot\n",
    "from bqplot import pyplot\n",
    "%matplotlib inline"
   ]
  },
  {
   "cell_type": "code",
   "execution_count": 3,
   "metadata": {},
   "outputs": [],
   "source": [
    "hotels = pd.read_csv('https://raw.githubusercontent.com/tanyagupta55/tanyagupta55.github.io/master/hotel_bookings.csv')"
   ]
  },
  {
   "cell_type": "markdown",
   "metadata": {},
   "source": [
    "## Preprocessing"
   ]
  },
  {
   "cell_type": "code",
   "execution_count": 4,
   "metadata": {},
   "outputs": [],
   "source": [
    "usa_hotels = hotels[hotels['country'] == 'USA']"
   ]
  },
  {
   "cell_type": "code",
   "execution_count": 5,
   "metadata": {},
   "outputs": [
    {
     "name": "stderr",
     "output_type": "stream",
     "text": [
      "C:\\Users\\Tanya Gupta\\Anaconda3\\lib\\site-packages\\ipykernel_launcher.py:2: SettingWithCopyWarning: \n",
      "A value is trying to be set on a copy of a slice from a DataFrame.\n",
      "Try using .loc[row_indexer,col_indexer] = value instead\n",
      "\n",
      "See the caveats in the documentation: https://pandas.pydata.org/pandas-docs/stable/user_guide/indexing.html#returning-a-view-versus-a-copy\n",
      "  \n",
      "C:\\Users\\Tanya Gupta\\Anaconda3\\lib\\site-packages\\ipykernel_launcher.py:3: SettingWithCopyWarning: \n",
      "A value is trying to be set on a copy of a slice from a DataFrame\n",
      "\n",
      "See the caveats in the documentation: https://pandas.pydata.org/pandas-docs/stable/user_guide/indexing.html#returning-a-view-versus-a-copy\n",
      "  This is separate from the ipykernel package so we can avoid doing imports until\n"
     ]
    }
   ],
   "source": [
    "arrival_date_month = ['January', 'February', 'March', 'April', 'May', 'June', 'July', 'August', 'September', 'October', 'November', 'December']\n",
    "usa_hotels['arrival_date_month'] = pd.Categorical(usa_hotels['arrival_date_month'], categories=arrival_date_month, ordered=True)\n",
    "usa_hotels.sort_values(by='arrival_date_month',ascending=True,inplace=True) \n",
    "\n",
    "\n",
    "# Idea to arrange months in ascending order inspired by https://stackoverflow.com/questions/48042915/sort-a-pandass-dataframe-series-by-month-name"
   ]
  },
  {
   "cell_type": "markdown",
   "metadata": {},
   "source": [
    "# Interactive Plot for understanding different aspects of Hotel Booking demand in the United States"
   ]
  },
  {
   "cell_type": "code",
   "execution_count": 6,
   "metadata": {},
   "outputs": [
    {
     "data": {
      "application/vnd.jupyter.widget-view+json": {
       "model_id": "31e01f60899b49628ee41159266acb0d",
       "version_major": 2,
       "version_minor": 0
      },
      "text/plain": [
       "interactive(children=(Dropdown(description='x_axis', options=('arrival_date_month', 'arrival_date_week_number'…"
      ]
     },
     "metadata": {},
     "output_type": "display_data"
    }
   ],
   "source": [
    "\n",
    "@ipywidgets.interact(colormap = plt.colormaps(), sym_log = True)\n",
    "def hotel_plot(x_axis = ['arrival_date_month','arrival_date_week_number','arrival_date_day_of_month', 'customer_type','distribution_channel'], y_axis = ['adr', 'total_of_special_requests','deposit_type','adults', 'stays_in_weekend_nights','stays_in_week_nights'], colormap = 'ocean_r'):\n",
    "    fig, ax = plt.subplots(1,1,figsize = (20,15))\n",
    "    plt.scatter(usa_hotels[x_axis], usa_hotels[y_axis], c = np.log10(usa_hotels['arrival_date_day_of_month']), cmap = colormap)\n",
    "    plt.colorbar()\n",
    "    plt.show()\n",
    "    "
   ]
  },
  {
   "cell_type": "markdown",
   "metadata": {},
   "source": [
    "The plot above is very helpful in understanding the crucial aspects of hotel booking demand in an interactive way.\n",
    "You are provided with two drop-down lists that help in selecting the response and explanatory variables to understand the relationship between two variables and gain necessary insights about hotel booking demand. Another drop-down list is provided to choose the color scheme of your wish. This plot aids in understanding the different ways in which customer demand can be interpreted against various measures of time including month, week number and day of the month, customer type and distribution channel involved in obtaining a customer. The visualization seeks to analyze demand in terms of the weekend and week night stays at the hotel by the customers, Average Daily Rate (adr) which is defined as the ratio of sum of all the lodging transactions and the number of staying nights, number of adults that are attached to a booking, number of special requests under a booking which signifies that the customer is willing to use special services of the hotel as a sign of trust and appreciation of the services and lastly, by the role of deposit and refunds attached to a booking indicating the trust and loyalty of the customers who have made the booking. Therefore, the intricate details pertaining to hotel booking demand, projected profits and overall industry status can be evaluated by interacting with this visualization. This plot can enable hotel owners to understand behavioral, psychological and time-related trends of customers with resoect to hotels helping them to strategize their resources and services in a way that attracts most customers through marketing and advertisements when the time and other external factors are right."
   ]
  },
  {
   "cell_type": "markdown",
   "metadata": {},
   "source": [
    "# Interactive Heat Map and Bar Plot to perform focused and annual Demand analysis of US Hotel Bookings"
   ]
  },
  {
   "cell_type": "markdown",
   "metadata": {},
   "source": [
    "## Preprocessing"
   ]
  },
  {
   "cell_type": "code",
   "execution_count": 7,
   "metadata": {},
   "outputs": [],
   "source": [
    "list_ = []\n",
    "\n",
    "for i in range(len(usa_hotels['customer_type'].unique())):\n",
    "    df = usa_hotels.loc[usa_hotels['customer_type'] == usa_hotels['customer_type'].unique()[i]]\n",
    "    for j in range(len(usa_hotels['arrival_date_year'].unique())):\n",
    "        sum_ = df.loc[df['arrival_date_year'] == usa_hotels['arrival_date_year'].unique()[j], 'stays_in_week_nights'].sum()\n",
    "        \n",
    "        list_.append([usa_hotels['customer_type'].unique()[i],usa_hotels['arrival_date_year'].unique()[j],sum_])"
   ]
  },
  {
   "cell_type": "code",
   "execution_count": 8,
   "metadata": {},
   "outputs": [],
   "source": [
    "customer_type = pd.DataFrame(list_,columns = ['customer_type','arrival_date_year','stays_in_week_nights'])"
   ]
  },
  {
   "cell_type": "code",
   "execution_count": 9,
   "metadata": {},
   "outputs": [],
   "source": [
    "weeks = np.asarray(customer_type['stays_in_week_nights'])"
   ]
  },
  {
   "cell_type": "code",
   "execution_count": 10,
   "metadata": {},
   "outputs": [],
   "source": [
    "week_stays = np.asarray(customer_type['stays_in_week_nights'])\n",
    "week_stays= week_stays.reshape(3,4)"
   ]
  },
  {
   "cell_type": "code",
   "execution_count": 11,
   "metadata": {},
   "outputs": [],
   "source": [
    "repeat_guest = usa_hotels.groupby('is_repeated_guest').sum().reset_index()"
   ]
  },
  {
   "cell_type": "code",
   "execution_count": 12,
   "metadata": {},
   "outputs": [],
   "source": [
    "week_stay = np.asarray(repeat_guest['stays_in_week_nights'])"
   ]
  },
  {
   "cell_type": "markdown",
   "metadata": {},
   "source": [
    "## Bar Plot"
   ]
  },
  {
   "cell_type": "code",
   "execution_count": 13,
   "metadata": {},
   "outputs": [
    {
     "data": {
      "application/vnd.jupyter.widget-view+json": {
       "model_id": "4a43746ae94e4b06b0241a8487b68f1d",
       "version_major": 2,
       "version_minor": 0
      },
      "text/plain": [
       "Figure(axes=[Axis(label='Status of Guest Repitition', scale=OrdinalScale()), Axis(label='Total Weekday Night S…"
      ]
     },
     "metadata": {},
     "output_type": "display_data"
    }
   ],
   "source": [
    "fig_l = bqplot.pyplot.figure(title='Total Weekday Night Stays per Status of Guest Repitition')\n",
    "axes_options_1 = {'x': {'label': 'Status of Guest Repitition'},\n",
    "                'y': {'label': 'Total Weekday Night Stays', 'tick_format': '0.0f'}}\n",
    "x_sc = bqplot.OrdinalScale()\n",
    "y_sc = bqplot.LinearScale()\n",
    "line = bqplot.pyplot.bar(x = repeat_guest['is_repeated_guest'], y = weeks, axes_options = axes_options_1, scales = {'x':x_sc, 'y':y_sc})\n",
    "fig_l"
   ]
  },
  {
   "cell_type": "markdown",
   "metadata": {},
   "source": [
    "The bar plot created is one of the components of the final dashboard. Based on the input received from the heat map about the total number of weekday night stays, this visualization gives the distribution of the guests that are new or repetitive against the total number of weekday nights stayed in hotels by these two categories of guests. This plot helps in understanding how many new guests have been attracted by hotels to stay in during weekdays and how many loyal customers have opted to stay in on weekday nights, helping hotels to either implement loyalty base schemes to attract more loyal customers or implement strategies to pull in more new customers based on the distribution obtained and overall target of the hotels."
   ]
  },
  {
   "cell_type": "markdown",
   "metadata": {},
   "source": [
    "## Introducing Interactivity"
   ]
  },
  {
   "cell_type": "code",
   "execution_count": 14,
   "metadata": {},
   "outputs": [],
   "source": [
    "mySelectedLabel = ipywidgets.Label()\n",
    "def on_selected(change): # already modified for our 3d data\n",
    "    if len(change['owner'].selected) == 1:\n",
    "        i, j = change['owner'].selected[0]\n",
    "        v = week_stays[i,j] # this is a 2d array!!\n",
    "        mySelectedLabel.value = 'The total number of Week Night Stays for a particular customer type and arrival year is ' + str(v)\n",
    "        line.y = weeks[i:j]"
   ]
  },
  {
   "cell_type": "markdown",
   "metadata": {},
   "source": [
    "## Heat Map"
   ]
  },
  {
   "cell_type": "code",
   "execution_count": 15,
   "metadata": {},
   "outputs": [
    {
     "data": {
      "application/vnd.jupyter.widget-view+json": {
       "model_id": "1a02ea5a8ec74aa7b3e4c246bb4b0886",
       "version_major": 2,
       "version_minor": 0
      },
      "text/plain": [
       "VBox(children=(Label(value=''), Figure(axes=[ColorAxis(orientation='vertical', scale=ColorScale(), side='right…"
      ]
     },
     "metadata": {},
     "output_type": "display_data"
    }
   ],
   "source": [
    "from bqplot import pyplot\n",
    "# 2. scales - linear scales\n",
    "x_sc = bqplot.OrdinalScale()\n",
    "y_sc = bqplot.OrdinalScale()\n",
    "c_sc = bqplot.ColorScale()\n",
    "\n",
    "# 3. axis\n",
    "ax_x = bqplot.Axis(scale = x_sc, label='Customer Type')\n",
    "ax_y = bqplot.Axis(scale = y_sc, orientation='vertical', label='Arrival Year')\n",
    "ax_col = bqplot.ColorAxis(scale = c_sc, orientation='vertical', side='right') \n",
    "# 4. Marks\n",
    "heat_map = bqplot.GridHeatMap(color = week_stays, #change\n",
    "                              row = customer_type['arrival_date_year'].unique(), #change\n",
    "                              column = customer_type['customer_type'].unique(), #change\n",
    "                              scales = {'color':c_sc, 'row':y_sc, 'column':x_sc},\n",
    "                             interactions={'click':'select'},\n",
    "                             anchor_style={'fill':'blue'})\n",
    "                             #selected_style={'opacity':1.0},\n",
    "                             #unselected_style={'opacity':0.8})\n",
    "\n",
    "\n",
    "heat_map.observe(on_selected, 'selected')\n",
    "        \n",
    "# figure!\n",
    "fig = bqplot.Figure(marks=[heat_map], axes=[ax_col, ax_y, ax_x])\n",
    "#fig\n",
    "\n",
    "# dashboard with my label\n",
    "myDashboard = ipywidgets.VBox([mySelectedLabel, fig])\n",
    "myDashboard"
   ]
  },
  {
   "cell_type": "markdown",
   "metadata": {},
   "source": [
    "The Heat Map obtained is the second component in the final dashboard. You can click on the boxes within the Heat Map to obtain insights from it and control the insights of the bar plot as the output number of weekday night stays at hotel obtained from each box within the Heat Map controls the input number of weekday night stays at hotels represented on the y-axis of the bar plot. In this Heat Map, output related to the total number of weekday night stays at hotel is obtained for a particular customer type and a particular year. Thus, you can easily compare the traffic of each customer type for each year that hotels witnessed."
   ]
  },
  {
   "cell_type": "markdown",
   "metadata": {},
   "source": [
    "## Final Dashboard"
   ]
  },
  {
   "cell_type": "code",
   "execution_count": 16,
   "metadata": {},
   "outputs": [
    {
     "data": {
      "application/vnd.jupyter.widget-view+json": {
       "model_id": "2fe2d6cd22a54419a48dbf00829cafd9",
       "version_major": 2,
       "version_minor": 0
      },
      "text/plain": [
       "VBox(children=(Label(value=''), HBox(children=(Figure(axes=[ColorAxis(orientation='vertical', scale=ColorScale…"
      ]
     },
     "metadata": {},
     "output_type": "display_data"
    }
   ],
   "source": [
    "# mess with some layout parameters (look a little like CSS stylings)\n",
    "fig.layout.min_width='500px'\n",
    "fig_l.layout.min_width='500px'\n",
    "\n",
    "\n",
    "figures = ipywidgets.HBox([fig, fig_l]) # figures side-by-side\n",
    "\n",
    "\n",
    "# label on top\n",
    "myDashboard = ipywidgets.VBox([mySelectedLabel, figures])\n",
    "myDashboard"
   ]
  },
  {
   "cell_type": "markdown",
   "metadata": {},
   "source": [
    "The bar plot on the right is controlled by the Heat Map on the left in this dashboard. By selecting a box of interest within the Heat Map grid, you can analyze the total nuber ofweekday night stays by customers against three different variables. The visualization above is a more focused version of the first interactive visualization with some already represented aspects and some newly introduced ones. The yearly aspect of time has been introduced and compared against the customer type on the left to see which customer type spent how many total week nights at hotels in a particular year. This gives a very dedicated and exceptional scenario of the customer types that are extremely loyal who tend to spend the most unusual periods of time at hotels (week nights). On the right, you can dive deep into how many repeated guests stay over at the hotels for week nights. This visualization can help in tapping the most loyal customers by giving them unbelievable discounts and reward points to maintain their loyalty towards specific hotels. "
   ]
  },
  {
   "cell_type": "markdown",
   "metadata": {},
   "source": [
    "# Contextual Visualizations"
   ]
  },
  {
   "cell_type": "markdown",
   "metadata": {},
   "source": [
    "## Contextual Visualization using another dataset"
   ]
  },
  {
   "cell_type": "code",
   "execution_count": 17,
   "metadata": {},
   "outputs": [],
   "source": [
    "airbnb_1 = pd.read_csv('https://raw.githubusercontent.com/tanyagupta55/tanyagupta55.github.io/master/half_AIRBNB.csv')\n",
    "airbnb_2 = pd.read_csv('https://raw.githubusercontent.com/tanyagupta55/tanyagupta55.github.io/master/half_AIRBNB_2.csv')"
   ]
  },
  {
   "cell_type": "code",
   "execution_count": 18,
   "metadata": {},
   "outputs": [],
   "source": [
    "airbnb = airbnb_1.join(airbnb_2, how = 'left')"
   ]
  },
  {
   "cell_type": "markdown",
   "metadata": {},
   "source": [
    "## Analysis of Average number of minimum nights spent in each Room Type of Airbnb in the United States v/s Average number of weekday and week nights spent in each Hotel Type in the United States"
   ]
  },
  {
   "cell_type": "code",
   "execution_count": 19,
   "metadata": {},
   "outputs": [],
   "source": [
    "hotel_type = usa_hotels.groupby('hotel').mean().reset_index()"
   ]
  },
  {
   "cell_type": "code",
   "execution_count": 20,
   "metadata": {},
   "outputs": [
    {
     "data": {
      "image/png": "[encoded data removed]",
      "text/plain": [
       "<Figure size 432x288 with 1 Axes>"
      ]
     },
     "metadata": {
      "needs_background": "light"
     },
     "output_type": "display_data"
    }
   ],
   "source": [
    "hotel_type.plot(x = 'hotel', y = 'stays_in_weekend_nights', kind = 'bar', colormap = 'terrain')\n",
    "plt.xlabel('Hotel Type')\n",
    "plt.ylabel('Stays in Weekend Nights')\n",
    "plt.title('Hotel Type v/s Average Weekend Night Stays')\n",
    "plt.show()"
   ]
  },
  {
   "cell_type": "code",
   "execution_count": 21,
   "metadata": {},
   "outputs": [
    {
     "data": {
      "image/png": "[encoded data removed]",
      "text/plain": [
       "<Figure size 432x288 with 1 Axes>"
      ]
     },
     "metadata": {
      "needs_background": "light"
     },
     "output_type": "display_data"
    }
   ],
   "source": [
    "hotel_type.plot(x = 'hotel', y = 'stays_in_week_nights', kind = 'bar', colormap = 'ocean')\n",
    "plt.xlabel('Hotel Type')\n",
    "plt.ylabel('Stays in Week Nights')\n",
    "plt.title('Hotel Type v/s Average Week Night Stays')\n",
    "plt.show()"
   ]
  },
  {
   "cell_type": "markdown",
   "metadata": {},
   "source": [
    "The two visualizations above seek to analyze the number of average night stays in the week and weekend pertaining to each hotel type. They indicate the relative demand for each hotel type and the extent to which customers perfer to stay in hotel rooms."
   ]
  },
  {
   "cell_type": "code",
   "execution_count": 22,
   "metadata": {},
   "outputs": [],
   "source": [
    "room_type = airbnb.groupby('room_type').mean().reset_index()"
   ]
  },
  {
   "cell_type": "code",
   "execution_count": 23,
   "metadata": {},
   "outputs": [
    {
     "data": {
      "image/png": "[encoded data removed]",
      "text/plain": [
       "<Figure size 432x288 with 1 Axes>"
      ]
     },
     "metadata": {
      "needs_background": "light"
     },
     "output_type": "display_data"
    }
   ],
   "source": [
    "room_type.plot(x = 'room_type', y = 'minimum_nights', kind = 'bar', colormap = 'rainbow')\n",
    "plt.xlabel('Airbnb Room Type')\n",
    "plt.ylabel('Average of Minimum number of Stay Nights')\n",
    "plt.title('Room Type v/s Average of Minimum number of Stay Nights')\n",
    "plt.show()"
   ]
  },
  {
   "cell_type": "markdown",
   "metadata": {},
   "source": [
    "The visualization above indicates the distinct demand for different airbnb rooms by customers and how much do customers prefer to stay in airbnb rooms. "
   ]
  },
  {
   "cell_type": "markdown",
   "metadata": {},
   "source": [
    "After understanding in-depth about the various ways to evaluate hotel booking demand, it is also necessary to consider the factor of competition. In earlier times, different hotel owners were involved in a tough competition with each other to attract new customers. With the flow of new ideas in the market and their smooth implementation through technological advances, the concept of Airbnb was introduced in the hospitality industry. It sought to bring together anyone who owned properties they were willing to publish as stay rooms for customers/travellers in different parts of the world. The idea was to convert every potential property into a room that could provide great variety of experiences to the people travelling, with the consent and willingness of the property owners. The major aim was to make each property owner a part of the Airbnb family who could now earn with many others like them binded by this one application that brought together all the different stay rooms. The high volume of rooms registered with airbnb helps in providing the rooms at very affordable rates to customers in need of rooms for staying in. This concept disrupted the idea of luxurious hotels with services being provided at exorbitant rates and repitition of customer experience with similar looking and feeling rooms. \n",
    "\n",
    "This fact is evident in the visualizations above where it is clearly noticable how the average number of nights spent on weekends and weekdays by hotel customers in different hotel types in the United States is very less comapred to the average of minimum number of nights spent by airbnb customers in different room types in the United States. Also, it is worth noting that the Hotel Data is spread across three years from 2015 to 2017 while the Airbnb data is restricted to the year 2020. Thus, it can be seen that the demand for Airbnb is clearly high compared to traditional hotels."
   ]
  },
  {
   "cell_type": "markdown",
   "metadata": {},
   "source": [
    "## Contextual Visualization using an image with relevant visualization from the internet"
   ]
  },
  {
   "cell_type": "markdown",
   "metadata": {},
   "source": [
    "## Comparison of Airbnb and Hotel Prices in some Touristy spots in United States"
   ]
  },
  {
   "cell_type": "code",
   "execution_count": 24,
   "metadata": {
    "scrolled": true
   },
   "outputs": [
    {
     "data": {
      "image/png": "[encoded data removed]",
      "text/plain": [
       "<IPython.core.display.Image object>"
      ]
     },
     "execution_count": 24,
     "metadata": {
      "image/png": {
       "height": 300,
       "width": 500
      }
     },
     "output_type": "execute_result"
    }
   ],
   "source": [
    "from IPython.display import Image\n",
    "Image(\"airbnb_hotel_prices_US.png\", width = 500, height =300)"
   ]
  },
  {
   "cell_type": "markdown",
   "metadata": {},
   "source": [
    "The visualization above seeks to compare the prices of single hotel rooms and airbnb properties for staying in at various prime, touristy locations of United States. It is clear from the visualization that Airbnb is more affordable and provides much more for each buck than hotels. The visualization here supports the reason for increasingly high demand for airbnb stays instead of hotel stays amongst travellers, tourists and general customers. The price for an entire property listed under airbnb is cheaper than a single room stay at a hotel. Thus, airbnb uses volume as a trade-off for costs, providing rich and unforgettable experiences compared to hotel rooms at much cheaper rates. Therefore, it can be observed that modernization of the hospitality industry has to a great extent uprooted the traditional hospitality industry that is struggling to keep up. Despite the highly luxurious services, resources and infrastructure, people are turning towards Airbnb just because it attracts volumes of people thorugh afforadbility, feasibility and uniqueness. Looking into past trends of the traditional hotel booking demand is no more enough for hotels to create strategies and procure resources for increasing revenue and profits. It is necessary to think out-of-the-box and introduce a win-win strategy that benefits both the provider and consumer is the best possible manner. "
   ]
  },
  {
   "cell_type": "markdown",
   "metadata": {},
   "source": [
    "## References:\n",
    "* Primary Dataset: Hotel Booking Demand - https://www.kaggle.com/jessemostipak/hotel-booking-demand?select=hotel_bookings.csv\n",
    "* US Airbnb Open data - https://www.kaggle.com/kritikseth/us-airbnb-open-data\n",
    "* Image - https://qz.com/779121/airbnb-vs-hotel-cost-comparison-you-can-rent-an-entire-home-on-airbnb-for-the-price-of-a-hotel-room/\n",
    "* https://stackoverflow.com/questions/48042915/sort-a-pandass-dataframe-series-by-month-name\n",
    "* bqplot documentation\n",
    "* pandas documentation\n",
    "* numpy documentation\n",
    "* ipywidgets documentation\n",
    "* matplotlib documentation"
   ]
  },
  {
   "cell_type": "code",
   "execution_count": null,
   "metadata": {},
   "outputs": [],
   "source": []
  },
  {
   "cell_type": "code",
   "execution_count": null,
   "metadata": {},
   "outputs": [],
   "source": []
  }
 ],
 "metadata": {
  "kernelspec": {
   "display_name": "Python 3",
   "language": "python",
   "name": "python3"
  },
  "language_info": {
   "codemirror_mode": {
    "name": "ipython",
    "version": 3
   },
   "file_extension": ".py",
   "mimetype": "text/x-python",
   "name": "python",
   "nbconvert_exporter": "python",
   "pygments_lexer": "ipython3",
   "version": "3.7.4"
  }
 },
 "nbformat": 4,
 "nbformat_minor": 2
}
